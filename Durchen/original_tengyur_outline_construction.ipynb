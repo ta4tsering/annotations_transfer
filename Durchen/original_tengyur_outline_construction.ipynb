{
 "cells": [
  {
   "cell_type": "code",
   "execution_count": 13,
   "metadata": {},
   "outputs": [],
   "source": [
    "from pathlib import Path\n",
    "from collections import defaultdict\n",
    "import re\n",
    "import yaml"
   ]
  },
  {
   "cell_type": "code",
   "execution_count": 14,
   "metadata": {},
   "outputs": [],
   "source": [
    "result = {}\n",
    "text_id = 1"
   ]
  },
  {
   "cell_type": "code",
   "execution_count": 93,
   "metadata": {},
   "outputs": [],
   "source": [
    "def get_durchen_span(pages, poti_num, text_id):\n",
    "    span = []\n",
    "    cur_text = {}\n",
    "    result = {}\n",
    "    error_box = []\n",
    "    error_page_num = {}\n",
    "    curr_error = {}\n",
    "    \n",
    "    for page_num, page in enumerate(pages, 1):\n",
    "        if re.search(r'(\\s|\\n)?བསྡུར་མཆན(་|།)(\\s|\\n)', page):\n",
    "            if len(span) == 0:\n",
    "                span.append(page_num)\n",
    "            else:\n",
    "                error_box.append(span[1])\n",
    "                span[1] = []\n",
    "                error_box = []\n",
    "        if re.search(r'(\\n|\\s)?བསྡུར་འབྲས་རེའུ་མིག(་?|།)(\\s|\\n)', page):\n",
    "            if len(span) == 1:\n",
    "                span.append(page_num)\n",
    "                cur_error[f'T{text_id}'] = {\n",
    "                    'start': span[0],\n",
    "                    'end': span[1],\n",
    "                    'vol': poti_num\n",
    "                }\n",
    "                result.update(cur_text)\n",
    "                text_id += 1\n",
    "                cur_text = {}\n",
    "            else:\n",
    "                error_box.append(page_num)\n",
    "                curr_error[f'V{poti_num}'] = {\n",
    "                    'Durdey Riwo Mig not available on ': error_box[0],\n",
    "                    'Durchen not available on ': error_box[1]\n",
    "                }\n",
    "                error_result.update(curr_error)\n",
    "                error_box = []\n",
    "                curr_error = []\n",
    "            span = []\n",
    "    write_durchen_span(result,poti_num)\n",
    "    write_error_page_num(error_result, poti_num)\n",
    "    return result"
   ]
  },
  {
   "cell_type": "code",
   "execution_count": 94,
   "metadata": {},
   "outputs": [],
   "source": [
    "def write_durchen_span(durchen_span,poti_num):\n",
    "    durchen_span_yml = yaml.safe_dump(durchen_span, sort_keys = False)\n",
    "    Path(f'./tengyur_dictionary/v{poti_num:03}.yml').write_text(durchen_span_yml, encoding = 'utf-8')\n",
    "    print(f'Tengyur durchen completed for V{poti_num:03} ..')"
   ]
  },
  {
   "cell_type": "code",
   "execution_count": 95,
   "metadata": {},
   "outputs": [],
   "source": [
    "def write_error_page_num(result_error, poti_num):\n",
    "    Path(f'./error_dictionary/v{poti_num:03}.yml').write_text(result_error, encoding = 'utf-8')\n",
    "    print(f'error number recording completed for V{poti_num:03} ..')"
   ]
  },
  {
   "cell_type": "code",
   "execution_count": 96,
   "metadata": {},
   "outputs": [],
   "source": [
    "def get_pages(vol_text):\n",
    "    result = []\n",
    "    pg_text = \"\"\n",
    "    pages = re.split(f\"(\\[\\d+\\w+\\])\", vol_text)\n",
    "    for i, page in enumerate(pages[1:]):\n",
    "        if i % 2 == 0:\n",
    "            pg_text += page\n",
    "        else:\n",
    "            pg_text += page\n",
    "            result.append(pg_text)\n",
    "            pg_text = \"\"\n",
    "            \n",
    "    return result"
   ]
  },
  {
   "cell_type": "code",
   "execution_count": 97,
   "metadata": {},
   "outputs": [],
   "source": [
    "def read_poti_content(poti_path):\n",
    "    content = poti_path.read_text(encoding = 'utf-8')\n",
    "    return content"
   ]
  },
  {
   "cell_type": "code",
   "execution_count": 98,
   "metadata": {},
   "outputs": [],
   "source": [
    "def get_pecha_durchen():\n",
    "    google_ocr = list(Path(f'./clean_tengyur_google_text').iterdir())\n",
    "    google_ocr.sort()\n",
    "    \n",
    "    for poti_num, poti_path in enumerate(google_ocr,1):\n",
    "        print(f'\\nv{poti_num} processing ....')\n",
    "        vol_text = read_poti_content(poti_path)\n",
    "        pages = get_pages(vol_text)\n",
    "        result = get_durchen_span(pages, poti_num, text_id)"
   ]
  },
  {
   "cell_type": "code",
   "execution_count": 99,
   "metadata": {
    "scrolled": true
   },
   "outputs": [
    {
     "name": "stdout",
     "output_type": "stream",
     "text": [
      "\n",
      "v1 processing ....\n"
     ]
    },
    {
     "ename": "IndexError",
     "evalue": "list index out of range",
     "output_type": "error",
     "traceback": [
      "\u001b[0;31m---------------------------------------------------------------------------\u001b[0m",
      "\u001b[0;31mIndexError\u001b[0m                                Traceback (most recent call last)",
      "\u001b[0;32m<ipython-input-99-27437f6fb46d>\u001b[0m in \u001b[0;36m<module>\u001b[0;34m\u001b[0m\n\u001b[0;32m----> 1\u001b[0;31m \u001b[0mget_pecha_durchen\u001b[0m\u001b[0;34m(\u001b[0m\u001b[0;34m)\u001b[0m\u001b[0;34m\u001b[0m\u001b[0;34m\u001b[0m\u001b[0m\n\u001b[0m",
      "\u001b[0;32m<ipython-input-98-9545c16a4c28>\u001b[0m in \u001b[0;36mget_pecha_durchen\u001b[0;34m()\u001b[0m\n\u001b[1;32m      7\u001b[0m         \u001b[0mvol_text\u001b[0m \u001b[0;34m=\u001b[0m \u001b[0mread_poti_content\u001b[0m\u001b[0;34m(\u001b[0m\u001b[0mpoti_path\u001b[0m\u001b[0;34m)\u001b[0m\u001b[0;34m\u001b[0m\u001b[0;34m\u001b[0m\u001b[0m\n\u001b[1;32m      8\u001b[0m         \u001b[0mpages\u001b[0m \u001b[0;34m=\u001b[0m \u001b[0mget_pages\u001b[0m\u001b[0;34m(\u001b[0m\u001b[0mvol_text\u001b[0m\u001b[0;34m)\u001b[0m\u001b[0;34m\u001b[0m\u001b[0;34m\u001b[0m\u001b[0m\n\u001b[0;32m----> 9\u001b[0;31m         \u001b[0mresult\u001b[0m \u001b[0;34m=\u001b[0m \u001b[0mget_durchen_span\u001b[0m\u001b[0;34m(\u001b[0m\u001b[0mpages\u001b[0m\u001b[0;34m,\u001b[0m \u001b[0mpoti_num\u001b[0m\u001b[0;34m,\u001b[0m \u001b[0mtext_id\u001b[0m\u001b[0;34m)\u001b[0m\u001b[0;34m\u001b[0m\u001b[0;34m\u001b[0m\u001b[0m\n\u001b[0m",
      "\u001b[0;32m<ipython-input-93-65963cb4c722>\u001b[0m in \u001b[0;36mget_durchen_span\u001b[0;34m(pages, poti_num, text_id)\u001b[0m\n\u001b[1;32m     30\u001b[0m                 curr_error[f'V{poti_num}'] = {\n\u001b[1;32m     31\u001b[0m                     \u001b[0;34m'Durdey Riwo Mig not available on '\u001b[0m\u001b[0;34m:\u001b[0m \u001b[0merror_box\u001b[0m\u001b[0;34m[\u001b[0m\u001b[0;36m0\u001b[0m\u001b[0;34m]\u001b[0m\u001b[0;34m,\u001b[0m\u001b[0;34m\u001b[0m\u001b[0;34m\u001b[0m\u001b[0m\n\u001b[0;32m---> 32\u001b[0;31m                     \u001b[0;34m'Durchen not available on '\u001b[0m\u001b[0;34m:\u001b[0m \u001b[0merror_box\u001b[0m\u001b[0;34m[\u001b[0m\u001b[0;36m1\u001b[0m\u001b[0;34m]\u001b[0m\u001b[0;34m\u001b[0m\u001b[0;34m\u001b[0m\u001b[0m\n\u001b[0m\u001b[1;32m     33\u001b[0m                 }\n\u001b[1;32m     34\u001b[0m                 \u001b[0merror_result\u001b[0m\u001b[0;34m.\u001b[0m\u001b[0mupdate\u001b[0m\u001b[0;34m(\u001b[0m\u001b[0mcurr_error\u001b[0m\u001b[0;34m)\u001b[0m\u001b[0;34m\u001b[0m\u001b[0;34m\u001b[0m\u001b[0m\n",
      "\u001b[0;31mIndexError\u001b[0m: list index out of range"
     ]
    }
   ],
   "source": [
    "get_pecha_durchen()\n"
   ]
  },
  {
   "cell_type": "markdown",
   "metadata": {},
   "source": [
    "#### "
   ]
  },
  {
   "cell_type": "markdown",
   "metadata": {},
   "source": [
    "### "
   ]
  }
 ],
 "metadata": {
  "kernelspec": {
   "display_name": "Python 3",
   "language": "python",
   "name": "python3"
  },
  "language_info": {
   "codemirror_mode": {
    "name": "ipython",
    "version": 3
   },
   "file_extension": ".py",
   "mimetype": "text/x-python",
   "name": "python",
   "nbconvert_exporter": "python",
   "pygments_lexer": "ipython3",
   "version": "3.8.5"
  }
 },
 "nbformat": 4,
 "nbformat_minor": 4
}
